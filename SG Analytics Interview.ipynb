{
 "cells": [
  {
   "cell_type": "code",
   "execution_count": 136,
   "id": "cba3b791",
   "metadata": {},
   "outputs": [],
   "source": [
    "list1=[1,7,26,52,130,216,433]\n",
    "# input 2\n",
    "#op = false\n",
    "# input 6\n",
    "#op = true"
   ]
  },
  {
   "cell_type": "code",
   "execution_count": 137,
   "id": "dd161f0f",
   "metadata": {},
   "outputs": [
    {
     "name": "stdout",
     "output_type": "stream",
     "text": [
      "2\n",
      "false\n"
     ]
    }
   ],
   "source": [
    "a = int(input())\n",
    "\n",
    "if a**3 in list1:\n",
    "    print(\"true\")\n",
    "else:\n",
    "    print(\"false\")"
   ]
  },
  {
   "cell_type": "code",
   "execution_count": 223,
   "id": "efbd3056",
   "metadata": {},
   "outputs": [],
   "source": [
    "list1 = ['a', 'b']\n",
    "n=3\n",
    "#OP=[a1 b1 a2 b2 a3 b3]"
   ]
  },
  {
   "cell_type": "code",
   "execution_count": 228,
   "id": "3a2f7f5f",
   "metadata": {},
   "outputs": [
    {
     "data": {
      "text/plain": [
       "['a1', 'b1', 'a2', 'b2', 'a3', 'b3']"
      ]
     },
     "execution_count": 228,
     "metadata": {},
     "output_type": "execute_result"
    }
   ],
   "source": [
    "[x+str(y) for y in range(1,n+1) for x in list1]"
   ]
  },
  {
   "cell_type": "code",
   "execution_count": 59,
   "id": "377e6f97",
   "metadata": {},
   "outputs": [
    {
     "name": "stdout",
     "output_type": "stream",
     "text": [
      "['a1', 'b1', 'a2', 'b2', 'a3', 'b3']\n"
     ]
    }
   ],
   "source": [
    "op=[]\n",
    "for i in range(1,n+1):\n",
    "    for j in list1:\n",
    "        op.append(j+str(i))\n",
    "print(op)\n",
    "    "
   ]
  },
  {
   "cell_type": "code",
   "execution_count": 123,
   "id": "b3558416",
   "metadata": {},
   "outputs": [],
   "source": [
    "list1 = [[\"a\",\"b\"],['cc','dd',['eeee','ffff']],['g','h']]\n",
    "#op='ffff'"
   ]
  },
  {
   "cell_type": "code",
   "execution_count": 128,
   "id": "da3f59c2",
   "metadata": {},
   "outputs": [
    {
     "data": {
      "text/plain": [
       "'ffff'"
      ]
     },
     "execution_count": 128,
     "metadata": {},
     "output_type": "execute_result"
    }
   ],
   "source": [
    "list1[1][2][1]"
   ]
  },
  {
   "cell_type": "code",
   "execution_count": 121,
   "id": "109766f6",
   "metadata": {},
   "outputs": [],
   "source": [
    "list1=[10,2,0,3,11,30,0,9,7]\n",
    "#op=[10,2,3,11,30,9,7,0,0]"
   ]
  },
  {
   "cell_type": "code",
   "execution_count": 122,
   "id": "738d85e0",
   "metadata": {},
   "outputs": [
    {
     "data": {
      "text/plain": [
       "[10, 2, 3, 11, 30, 9, 7, 0, 0]"
      ]
     },
     "execution_count": 122,
     "metadata": {},
     "output_type": "execute_result"
    }
   ],
   "source": [
    "for i in range(0,len(list1)):\n",
    "    if list1[i]==0:\n",
    "        list1.append(list1[i])\n",
    "        list1.pop(i)\n",
    "list1    "
   ]
  },
  {
   "cell_type": "code",
   "execution_count": 105,
   "id": "e02c0d27",
   "metadata": {},
   "outputs": [],
   "source": [
    "op_1=[]\n",
    "op_2=[]\n",
    "for i in list1:\n",
    "    if i!=0:\n",
    "        op_1.append(i)\n",
    "    else:\n",
    "        op_2.append(i)"
   ]
  },
  {
   "cell_type": "code",
   "execution_count": 142,
   "id": "a2ae0860",
   "metadata": {},
   "outputs": [],
   "source": [
    "list1=[1,2,3,4,5,6,7]\n",
    "list2=[8,10,12,13,15]"
   ]
  },
  {
   "cell_type": "code",
   "execution_count": 144,
   "id": "c2184868",
   "metadata": {},
   "outputs": [],
   "source": [
    "string1 = \"Python 3.9.7 (default, Sep 16 2021, 16:59:28) [MSC v.1916 64 bit (AMD64)] Type 'copyright', 'credits' or 'license' for more information IPython 7.29.0 -- An enhanced Interactive Python. Type '?'\""
   ]
  },
  {
   "cell_type": "code",
   "execution_count": 147,
   "id": "b1b6fb91",
   "metadata": {},
   "outputs": [
    {
     "data": {
      "text/plain": [
       "['Python',\n",
       " '3.9.7',\n",
       " '(default,',\n",
       " 'Sep',\n",
       " '16',\n",
       " '2021,',\n",
       " '16:59:28)',\n",
       " '[MSC',\n",
       " 'v.1916',\n",
       " '64',\n",
       " 'bit',\n",
       " '(AMD64)]',\n",
       " 'Type',\n",
       " \"'copyright',\",\n",
       " \"'credits'\",\n",
       " 'or',\n",
       " \"'license'\",\n",
       " 'for',\n",
       " 'more',\n",
       " 'information',\n",
       " 'IPython',\n",
       " '7.29.0',\n",
       " '--',\n",
       " 'An',\n",
       " 'enhanced',\n",
       " 'Interactive',\n",
       " 'Python.',\n",
       " 'Type',\n",
       " \"'?'\"]"
      ]
     },
     "execution_count": 147,
     "metadata": {},
     "output_type": "execute_result"
    }
   ],
   "source": [
    "word= string1.split(\" \")\n",
    "word"
   ]
  },
  {
   "cell_type": "code",
   "execution_count": 218,
   "id": "dbf7b481",
   "metadata": {},
   "outputs": [],
   "source": [
    "list1=\"Windows Notepad is a simple text editor for Windows it creates and edits plain text documents. First released in 1983 to commercialize the computer mouse in MS-DOS, Notepad has been part of every Windows\""
   ]
  },
  {
   "cell_type": "code",
   "execution_count": 219,
   "id": "e7ef784f",
   "metadata": {},
   "outputs": [],
   "source": [
    "list2 = list1.split(\" \")"
   ]
  },
  {
   "cell_type": "code",
   "execution_count": 221,
   "id": "79f8c9e3",
   "metadata": {},
   "outputs": [
    {
     "data": {
      "text/plain": [
       "0"
      ]
     },
     "execution_count": 221,
     "metadata": {},
     "output_type": "execute_result"
    }
   ],
   "source": [
    "list2.index(\"Windows\")"
   ]
  }
 ],
 "metadata": {
  "kernelspec": {
   "display_name": "Python 3 (ipykernel)",
   "language": "python",
   "name": "python3"
  },
  "language_info": {
   "codemirror_mode": {
    "name": "ipython",
    "version": 3
   },
   "file_extension": ".py",
   "mimetype": "text/x-python",
   "name": "python",
   "nbconvert_exporter": "python",
   "pygments_lexer": "ipython3",
   "version": "3.9.7"
  }
 },
 "nbformat": 4,
 "nbformat_minor": 5
}
