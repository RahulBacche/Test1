{
 "cells": [
  {
   "cell_type": "code",
   "execution_count": null,
   "id": "dc97dae5",
   "metadata": {},
   "outputs": [],
   "source": [
    "# this is test file"
   ]
  },
  {
   "cell_type": "code",
   "execution_count": null,
   "id": "1385e409",
   "metadata": {},
   "outputs": [],
   "source": [
    "test1= \"test TWO\""
   ]
  },
  {
   "cell_type": "code",
   "execution_count": 7,
   "id": "7aa7a16f",
   "metadata": {},
   "outputs": [
    {
     "data": {
      "text/plain": [
       "'C:\\\\Users\\\\lenovo'"
      ]
     },
     "execution_count": 7,
     "metadata": {},
     "output_type": "execute_result"
    }
   ],
   "source": [
    "import os\n",
    "os.getcwd()"
   ]
  }
 ],
 "metadata": {
  "kernelspec": {
   "display_name": "Python 3 (ipykernel)",
   "language": "python",
   "name": "python3"
  },
  "language_info": {
   "codemirror_mode": {
    "name": "ipython",
    "version": 3
   },
   "file_extension": ".py",
   "mimetype": "text/x-python",
   "name": "python",
   "nbconvert_exporter": "python",
   "pygments_lexer": "ipython3",
   "version": "3.9.7"
  }
 },
 "nbformat": 4,
 "nbformat_minor": 5
}
